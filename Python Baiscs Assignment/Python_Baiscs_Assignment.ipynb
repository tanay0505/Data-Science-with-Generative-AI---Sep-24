{
  "nbformat": 4,
  "nbformat_minor": 0,
  "metadata": {
    "colab": {
      "provenance": [],
      "authorship_tag": "ABX9TyOr9H77R4U4SSCmgcQ0+deu",
      "include_colab_link": true
    },
    "kernelspec": {
      "name": "python3",
      "display_name": "Python 3"
    },
    "language_info": {
      "name": "python"
    }
  },
  "cells": [
    {
      "cell_type": "markdown",
      "metadata": {
        "id": "view-in-github",
        "colab_type": "text"
      },
      "source": [
        "<a href=\"https://colab.research.google.com/github/tanay0505/Data-Science-with-Generative-AI---Sep-24/blob/main/Python%20Baiscs%20Assignment/Python_Baiscs_Assignment.ipynb\" target=\"_parent\"><img src=\"https://colab.research.google.com/assets/colab-badge.svg\" alt=\"Open In Colab\"/></a>"
      ]
    },
    {
      "cell_type": "code",
      "execution_count": null,
      "metadata": {
        "colab": {
          "base_uri": "https://localhost:8080/",
          "height": 53
        },
        "id": "sBvq5dtupByD",
        "outputId": "77c0adae-86ea-4e17-ddbc-79910da81d62"
      },
      "outputs": [
        {
          "output_type": "execute_result",
          "data": {
            "text/plain": [
              "'\\n\\nQue - Explain the key features of Python that make it a popular choice for programming\\n\\nAns - Easy to Learn and Use\\n      Interpreted Language\\n      Extensive Standard Library\\n      Object-Oriented Programming\\n      Highly Scalable and Flexible\\n\\n'"
            ],
            "application/vnd.google.colaboratory.intrinsic+json": {
              "type": "string"
            }
          },
          "metadata": {},
          "execution_count": 2
        }
      ],
      "source": [
        "\"\"\"\n",
        "\n",
        "Que - Explain the key features of Python that make it a popular choice for programming\n",
        "\n",
        "Ans - Easy to Learn and Use\n",
        "      Interpreted Language\n",
        "      Extensive Standard Library\n",
        "      Object-Oriented Programming\n",
        "      Highly Scalable and Flexible\n",
        "\n",
        "\"\"\""
      ]
    },
    {
      "cell_type": "code",
      "source": [
        "\"\"\"\n",
        "\n",
        "Que - Describe the role of predefined keywords in Python and provide examples of how they are used in a program\n",
        "\n",
        "Ans - Control Flow\n",
        "      Defining Functions and Classes\n",
        "      Handling Exceptions\n",
        "      Managing Variables and Memory\n",
        "      Boolean Logic\n",
        "\n",
        "\"\"\""
      ],
      "metadata": {
        "id": "furMITeGrgag"
      },
      "execution_count": null,
      "outputs": []
    },
    {
      "cell_type": "code",
      "source": [
        "\"\"\"\n",
        "\n",
        "Que - Compare and contrast mutable and immutable objects in Python with examples\n",
        "\n",
        "Ans - Objects whose values can be changed after creation are mutable.\n",
        "      Objects whose values cannot be changed after creation are immutable.\n",
        "\n",
        "      Mutable examples - Lists, dictionaries, sets, user-defined objects\n",
        "      Immutable examples - Integers, floats, strings, tuples, booleans\n",
        "\n",
        "\"\"\""
      ],
      "metadata": {
        "id": "ApHfEEifvtDx"
      },
      "execution_count": null,
      "outputs": []
    },
    {
      "cell_type": "code",
      "source": [
        "\"\"\"\n",
        "\n",
        "Que -  Discuss the different types of operators in Python and provide examples of how they are used in a program\n",
        "\n",
        "Ans - Arithmetic Operators\n",
        "      +\tAddition\t5 + 2 = 7\tAdds two values together\n",
        "      -\tSubtraction\t5 - 2 = 3\tSubtracts the second value from the first\n",
        "      *\tMultiplication\t5 * 2 = 10\tMultiplies two values\n",
        "      /\tDivision\t5 / 2 = 2.5\tDivides the first value by the second\n",
        "      //\tFloor Division\t5 // 2 = 2\tDivides and returns the floor value (integer)\n",
        "      %\tModulus (Remainder)\t5 % 2 = 1\tReturns the remainder of division\n",
        "      **\tExponentiation\t5 ** 2 = 25\tRaises the first value to the power of the second\n",
        "\n",
        "\n",
        "      Comparison Operators\n",
        "      ==\tEqual to\t5 == 2 -> False\tReturns True if both values are equal\n",
        "      !=\tNot equal to\t5 != 2 -> True\tReturns True if values are not equal\n",
        "      >\tGreater than\t5 > 2 -> True\tReturns True if first value is greater\n",
        "      <\tLess than\t5 < 2 -> False\tReturns True if first value is smaller\n",
        "      >=\tGreater than or equal to\t5 >= 2 -> True\tReturns True if first value is greater or equal\n",
        "      <=\tLess than or equal to\t5 <= 2 -> False\tReturns True if first value is smaller or equal\n",
        "\n",
        "\n",
        "      Logical Operators\n",
        "      and\tLogical AND\t(5 > 2) and (5 < 10) -> True\tReturns True if both conditions are True\n",
        "      or\tLogical OR\t(5 > 2) or (5 > 10) -> True\tReturns True if at least one condition is True\n",
        "      not\tLogical NOT\tnot(5 > 2) -> False\tInverts the boolean value\n",
        "\n",
        "\n",
        "      Assignment Operators\n",
        "      =\tAssignment\tx = 5\tAssigns value to the variable\n",
        "      +=\tAdd and assign\tx += 5\tAdds and assigns value to the variable\n",
        "      -=\tSubtract and assign\tx -= 5\tSubtracts and assigns value to the variable\n",
        "      *=\tMultiply and assign\tx *= 5\tMultiplies and assigns value\n",
        "      /=\tDivide and assign\tx /= 5\tDivides and assigns value\n",
        "      //=\tFloor divide and assign\tx //= 5\tFloor divides and assigns value\n",
        "      %=\tModulus and assign\tx %= 5\tTakes modulus and assigns value\n",
        "      **=\tExponentiate and assign\tx **= 5\tExponentiates and assigns value\n",
        "\n",
        "\n",
        "      Bitwise Operators\n",
        "      &\tBitwise AND\t5 & 3 -> 1\tPerforms AND operation on each bit\n",
        "      `\t`\tBitwise OR\t`5\n",
        "      ^\tBitwise XOR\t5 ^ 3 -> 6\tPerforms XOR operation on each bit\n",
        "      ~\tBitwise NOT\t~5 -> -6\tInverts all the bits\n",
        "      <<\tLeft shift\t5 << 1 -> 10\tShifts bits left by specified positions\n",
        "      >>\tRight shift\t5 >> 1 -> 2\tShifts bits right by specified positions\n",
        "\n",
        "\n",
        "      Membership Operators\n",
        "      in\tMembership\t'a' in 'apple'\tReturns True if the value is found in the sequence\n",
        "      not in\tMembership Not\t'x' not in 'apple'\tReturns True if the value is not found in the sequence\n",
        "\n",
        "\n",
        "      Identity Operators\n",
        "      is\tIdentity\tx is y\tReturns True if both variables point to the same object\n",
        "      is not\tIdentity Not\tx is not y\tReturns True if both variables point to different objects\n",
        "\n",
        "\"\"\""
      ],
      "metadata": {
        "id": "-3VUgQ5RA6uy"
      },
      "execution_count": null,
      "outputs": []
    },
    {
      "cell_type": "code",
      "source": [
        "\"\"\"\n",
        "Que - Explain the concept of type casting in Python with examples\n",
        "\n",
        "Ans - Type casting (also known as type conversion) in Python is the process of converting a variable from one data type to another.\n",
        "\n",
        "      implicit type casting:- Python automatically converts one data type to another without explicit instruction.\n",
        "\n",
        "      x = 10   # Integer\n",
        "      y = 3.5  # Float\n",
        "      result = x + y\n",
        "      print(result)        # Output: 13.5\n",
        "      print(type(result))  # Output: <class 'float'>\n",
        "\n",
        "      explicit type casting:- the programmer manually converts a variable from one data type to another using built-in functions\n",
        "      int() - Converts to an integer\n",
        "      float() - Converts to a float\n",
        "      str() - Converts to a string\n",
        "      list() - Converts to a list\n",
        "      tuple() - Converts to a tuple\n",
        "      set() - Converts to a set\n",
        "\n",
        "      age = 25\n",
        "      age_str = str(age)  # Explicitly converting integer to string\n",
        "      print(age_str)         # Output: \"25\"\n",
        "      print(type(age_str))   # Output: <class 'str'>\n",
        "\n",
        "\n",
        "\"\"\""
      ],
      "metadata": {
        "id": "OSGYDS0Q1uM6"
      },
      "execution_count": null,
      "outputs": []
    },
    {
      "cell_type": "code",
      "source": [
        "\"\"\"\n",
        "\n",
        "Que - How do conditional statements work in Python? Illustrate with examples\n",
        "\n",
        "Ans - In Python, conditional statements allow the execution of code based on whether a specific condition or set of conditions evaluates to True or False.\n",
        "\n",
        "      if statement\n",
        "      if-else statement\n",
        "      if-elif-else statement\n",
        "\n",
        "      age = 18\n",
        "      if age >= 18:\n",
        "        print(\"You are an adult.\")\n",
        "\n",
        "      age = 16\n",
        "      if age >= 18:\n",
        "        print(\"You are an adult.\")\n",
        "      else:\n",
        "        print(\"You are a minor.\")\n",
        "\n",
        "      score = 85\n",
        "      if score >= 90:\n",
        "        print(\"Grade: A\")\n",
        "      elif score >= 80:\n",
        "        print(\"Grade: B\")\n",
        "      elif score >= 70:\n",
        "        print(\"Grade: C\")\n",
        "      else:\n",
        "        print(\"Grade: D or F\")\n",
        "\n",
        "\"\"\""
      ],
      "metadata": {
        "id": "i45HYyPW3iBK"
      },
      "execution_count": null,
      "outputs": []
    },
    {
      "cell_type": "code",
      "source": [
        "\"\"\"\n",
        "\n",
        "Que -  Describe the different types of loops in Python and their use cases with examples.\n",
        "\n",
        "Ans - The for loop in Python is used to iterate over a sequence\n",
        "\n",
        "      for i in range(5):\n",
        "        print(i)\n",
        "\n",
        "\n",
        "      The while loop runs as long as a condition is True.\n",
        "\n",
        "      count = 1\n",
        "      while count <= 5:\n",
        "        print(count)\n",
        "      count += 1\n",
        "\n",
        "\"\"\""
      ],
      "metadata": {
        "id": "d2QfSFz740q5"
      },
      "execution_count": null,
      "outputs": []
    }
  ]
}